{
 "cells": [
  {
   "cell_type": "markdown",
   "metadata": {},
   "source": [
    "# Training"
   ]
  },
  {
   "cell_type": "markdown",
   "metadata": {},
   "source": [
    "モデルをトレーニングするには３つのことが必要だ。\n",
    "* 目的関数、いくつかの入力データが与えられたらモデルがどれだけよく機能するかを評価\n",
    "* 目的関数に提供されるデータポイントのコレクション\n",
    "* 適切にモデルパラメータを更新する[オプティマイザ](https://fluxml.ai/Flux.jl/stable/training/optimisers.html)\n",
    "\n",
    "これらを`Flux.train!`で呼ぶことができる。\n",
    "\n",
    "```julia\n",
    "Flux.train!(objective, data, opt)\n",
    "```\n",
    "\n",
    "[model zoo](https://github.com/FluxML/model-zoo)に沢山の例がある。"
   ]
  },
  {
   "cell_type": "markdown",
   "metadata": {},
   "source": [
    "## Loss Functions\n",
    "---\n",
    "\n",
    "目的関数はモデルの損失を返す必要がある。  \n",
    "basicsで定義した`loss`関数は、目的として動作する。  \n",
    "あるモデルに関して目的を定義することもできる。"
   ]
  },
  {
   "cell_type": "code",
   "execution_count": 10,
   "metadata": {},
   "outputs": [],
   "source": [
    "using Flux\n",
    "m = Chain(\n",
    "    Dense(28^2, 32, σ),\n",
    "    Dense(32,10), softmax)\n",
    "\n",
    "loss(x,y) = Flux.mse(m(x), y)\n",
    "\n",
    "# 元コードにはないが必要であろうものを追記\n",
    "opt = SGD(params(m),0.1)\n",
    "# 追記終わり\n",
    "\n",
    "# later\n",
    "Flux.train!(loss, data, opt)"
   ]
  },
  {
   "cell_type": "markdown",
   "metadata": {},
   "source": [
    "ほとんどの目的はターゲット`y`から予測`m(x)`の距離の指標である、あるコスト関数で定義される。  \n",
    "Fluxでは、平均二条誤差`mse`やクロスエントロピー損失の`crossentropy`のような、いくつかが組み込まれているが、必要に応じて計算できる。 "
   ]
  },
  {
   "cell_type": "markdown",
   "metadata": {},
   "source": [
    "## Detasets\n",
    "---\n",
    "\n",
    "`data`引数は訓練のためのデータのコレクションを提供する（普通は入力`x`とターゲット出力`y`のセット）。  \n",
    "例えば、ここにデータポイントが一つだけのダミーデータセットがある。 "
   ]
  },
  {
   "cell_type": "code",
   "execution_count": 3,
   "metadata": {},
   "outputs": [
    {
     "data": {
      "text/plain": [
       "1-element Array{Tuple{Array{Float64,1},Array{Float64,1}},1}:\n",
       " ([0.627661, 0.846875, 0.321991, 0.507268, 0.628431, 0.499641, 0.170108, 0.0573684, 0.582821, 0.07334  …  0.51649, 0.563545, 0.290845, 0.66132, 0.584451, 0.591893, 0.696098, 0.0442405, 0.349206, 0.979701], [0.0320805, 0.89024, 0.629555, 0.64725, 0.202011, 0.812543, 0.0884321, 0.0193722, 0.744511, 0.998158])"
      ]
     },
     "execution_count": 3,
     "metadata": {},
     "output_type": "execute_result"
    }
   ],
   "source": [
    "x = rand(28^2)\n",
    "y = rand(10)\n",
    "data = [(x,y)]"
   ]
  },
  {
   "cell_type": "markdown",
   "metadata": {},
   "source": [
    "`Flux.train!`は`loss(x,y)`を呼び、勾配計算をして、重みを更新して、次のデータがあればそれに移動する。  \n",
    "三回、同じデータでモデルを訓練できる."
   ]
  },
  {
   "cell_type": "code",
   "execution_count": 4,
   "metadata": {},
   "outputs": [
    {
     "data": {
      "text/plain": [
       "Base.Iterators.Take{Base.Iterators.Repeated{Tuple{Array{Float64,1},Array{Float64,1}}}}(Base.Iterators.Repeated{Tuple{Array{Float64,1},Array{Float64,1}}}(([0.627661, 0.846875, 0.321991, 0.507268, 0.628431, 0.499641, 0.170108, 0.0573684, 0.582821, 0.07334  …  0.51649, 0.563545, 0.290845, 0.66132, 0.584451, 0.591893, 0.696098, 0.0442405, 0.349206, 0.979701], [0.0320805, 0.89024, 0.629555, 0.64725, 0.202011, 0.812543, 0.0884321, 0.0193722, 0.744511, 0.998158])), 3)"
      ]
     },
     "execution_count": 4,
     "metadata": {},
     "output_type": "execute_result"
    }
   ],
   "source": [
    "data = [(x,y),(x,y),(x,y)]\n",
    "# または以下の書き方でも同様\n",
    "data = Iterators.repeated((x,y),3)"
   ]
  },
  {
   "cell_type": "markdown",
   "metadata": {},
   "source": [
    "`xs`と`ys`は別でロードするのが普通。  \n",
    "このケースでは`zip`を使うことができる。"
   ]
  },
  {
   "cell_type": "code",
   "execution_count": 6,
   "metadata": {},
   "outputs": [
    {
     "name": "stdout",
     "output_type": "stream",
     "text": [
      "hello\n",
      "hello\n"
     ]
    },
    {
     "name": "stderr",
     "output_type": "stream",
     "text": [
      "┌ Info: Epoch 1\n",
      "└ @ Main /Users/umikoz/.julia/packages/Flux/jsf3Y/src/optimise/train.jl:93\n",
      "┌ Info: Epoch 2\n",
      "└ @ Main /Users/umikoz/.julia/packages/Flux/jsf3Y/src/optimise/train.jl:93\n"
     ]
    }
   ],
   "source": [
    "using Flux: @epochs\n",
    "\n",
    "@epochs 2 println(\"hello\")"
   ]
  },
  {
   "cell_type": "code",
   "execution_count": 16,
   "metadata": {},
   "outputs": [
    {
     "name": "stderr",
     "output_type": "stream",
     "text": [
      "┌ Info: Epoch 1\n",
      "└ @ Main /Users/umikoz/.julia/packages/Flux/jsf3Y/src/optimise/train.jl:93\n",
      "┌ Info: Epoch 2\n",
      "└ @ Main /Users/umikoz/.julia/packages/Flux/jsf3Y/src/optimise/train.jl:93\n"
     ]
    }
   ],
   "source": [
    "@epochs 2 Flux.train!(loss, data, opt)\n",
    "# 2エポック学習する"
   ]
  },
  {
   "cell_type": "markdown",
   "metadata": {},
   "source": [
    "## Callbacks\n",
    "---\n",
    "\n",
    "`train!`は追加の引数を取り、`cb`、これはコールバックに使われるので、トレーニングプロセスを監視できる。  \n",
    "例えば、"
   ]
  },
  {
   "cell_type": "code",
   "execution_count": 31,
   "metadata": {},
   "outputs": [
    {
     "name": "stdout",
     "output_type": "stream",
     "text": [
      "training\n",
      "training\n",
      "training\n"
     ]
    }
   ],
   "source": [
    "using Flux:train!\n",
    "train!(loss, data, opt; cb= ()-> println(\"training\"))"
   ]
  },
  {
   "cell_type": "markdown",
   "metadata": {},
   "source": [
    "コールバックは教師データのバッチごとに呼び出される。  \n",
    "`Flux.throttle(f, timeout)`を使ってこれを遅くすることができる。これは`timeout`秒の間に1回以上`f`が呼ばれるのを防ぐ。\n",
    "\n",
    "もっと典型的には次のようになる。"
   ]
  },
  {
   "cell_type": "code",
   "execution_count": 41,
   "metadata": {},
   "outputs": [
    {
     "name": "stdout",
     "output_type": "stream",
     "text": [
      "loss(test_x, test_y) = 0.25721523745290814 (tracked)\n"
     ]
    }
   ],
   "source": [
    "using Flux: throttle\n",
    "\n",
    "test_x, test_y = x, y# テストデータの1バッチを作る\n",
    "evalcb() = @show(loss(test_x, test_y))\n",
    "\n",
    "Flux.train!(loss, data, opt, cb = throttle(evalcb, 5))"
   ]
  },
  {
   "cell_type": "code",
   "execution_count": 42,
   "metadata": {},
   "outputs": [],
   "source": [
    "# ここちょっとよく分かってない"
   ]
  }
 ],
 "metadata": {
  "kernelspec": {
   "display_name": "Julia 1.0.2",
   "language": "julia",
   "name": "julia-1.0"
  },
  "language_info": {
   "file_extension": ".jl",
   "mimetype": "application/julia",
   "name": "julia",
   "version": "1.0.2"
  }
 },
 "nbformat": 4,
 "nbformat_minor": 2
}
