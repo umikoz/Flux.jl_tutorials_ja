{
 "cells": [
  {
   "cell_type": "markdown",
   "metadata": {},
   "source": [
    "# Regularisation\n",
    "\n",
    "モデルパラメータへの正則化の適用は簡単だ。  \n",
    "ちょうど`norm`のような適切な正則化器を各モデルパラメータに適用し、結果を全体損失に追加するだけだ。\n",
    "\n",
    "例えば、簡単な回帰があるとする。"
   ]
  },
  {
   "cell_type": "code",
   "execution_count": 42,
   "metadata": {},
   "outputs": [
    {
     "data": {
      "text/plain": [
       "loss (generic function with 1 method)"
      ]
     },
     "execution_count": 42,
     "metadata": {},
     "output_type": "execute_result"
    }
   ],
   "source": [
    "using Flux\n",
    "using Flux: crossentropy\n",
    "using LinearAlgebra\n",
    "\n",
    "m = Dense(10,5)\n",
    "loss(x,y) = crossentropy(softmax(m(x)), y)"
   ]
  },
  {
   "cell_type": "markdown",
   "metadata": {},
   "source": [
    "パラメータ（`m.W`と`m.b`）のL2ノルムを取って正則化ができる。"
   ]
  },
  {
   "cell_type": "code",
   "execution_count": 45,
   "metadata": {},
   "outputs": [
    {
     "data": {
      "text/plain": [
       "loss (generic function with 1 method)"
      ]
     },
     "execution_count": 45,
     "metadata": {},
     "output_type": "execute_result"
    }
   ],
   "source": [
    "penalty() = norm(m.W) + norm(m.b)\n",
    "loss(x,y) = crossentropy(softmax(m(x)), y) + penalty()"
   ]
  },
  {
   "cell_type": "markdown",
   "metadata": {},
   "source": [
    "レイヤを扱うとき、Fluxはすべてのパラメータを一度に掴むための`params`関数を提供する。  \n",
    "`sum(norm, params)`で簡単にペナルティを課せる。"
   ]
  },
  {
   "cell_type": "code",
   "execution_count": 16,
   "metadata": {},
   "outputs": [
    {
     "data": {
      "text/plain": [
       "2-element Array{Any,1}:\n",
       " Flux.Tracker.TrackedReal{Float64}[-0.376348 (tracked) -0.00425538 (tracked) … -0.371803 (tracked) 0.0844787 (tracked); 0.389778 (tracked) 0.219423 (tracked) … -0.491801 (tracked) -0.519534 (tracked); … ; 0.540866 (tracked) -0.609542 (tracked) … -0.405648 (tracked) -0.493111 (tracked); 0.502622 (tracked) -0.623666 (tracked) … -0.318689 (tracked) -0.400307 (tracked)]\n",
       " Flux.Tracker.TrackedReal{Float64}[0.0 (tracked), 0.0 (tracked), 0.0 (tracked), 0.0 (tracked), 0.0 (tracked)]                                                                                                                                                                                                                                                                   "
      ]
     },
     "execution_count": 16,
     "metadata": {},
     "output_type": "execute_result"
    }
   ],
   "source": [
    "params(m)"
   ]
  },
  {
   "cell_type": "code",
   "execution_count": 18,
   "metadata": {},
   "outputs": [
    {
     "data": {
      "text/plain": [
       "2.771588008595627 (tracked)"
      ]
     },
     "execution_count": 18,
     "metadata": {},
     "output_type": "execute_result"
    }
   ],
   "source": [
    "sum(norm, params(m))"
   ]
  },
  {
   "cell_type": "markdown",
   "metadata": {},
   "source": [
    "これは多層パーセプトロンを使ったより大きな例。"
   ]
  },
  {
   "cell_type": "code",
   "execution_count": 52,
   "metadata": {},
   "outputs": [
    {
     "data": {
      "text/plain": [
       "35.13749596450304 (tracked)"
      ]
     },
     "execution_count": 52,
     "metadata": {},
     "output_type": "execute_result"
    }
   ],
   "source": [
    "m = Chain(\n",
    "    Dense(28^2, 128, relu),\n",
    "    Dense(128, 32, relu),\n",
    "    Dense(32, 10), # もとのコードだとこの行にsoftmaxも並んでいるがカッコの位置を見落として苦しんだので注意\n",
    "    softmax)\n",
    "\n",
    "loss(x,y) = crossentropy(m(x), y) + sum(norm, params(m))\n",
    "\n",
    "loss(rand(28^2), rand(10))"
   ]
  },
  {
   "cell_type": "markdown",
   "metadata": {},
   "source": [
    "`activations`関数を使い、レイヤごとに正則化を追加することも簡単にできる。"
   ]
  },
  {
   "cell_type": "code",
   "execution_count": 53,
   "metadata": {},
   "outputs": [
    {
     "data": {
      "text/plain": [
       "Chain(Dense(10, 5, NNlib.σ), Dense(5, 2), NNlib.softmax)"
      ]
     },
     "execution_count": 53,
     "metadata": {},
     "output_type": "execute_result"
    }
   ],
   "source": [
    "c = Chain(Dense(10,5,σ), Dense(5,2), softmax)"
   ]
  },
  {
   "cell_type": "code",
   "execution_count": 63,
   "metadata": {},
   "outputs": [
    {
     "data": {
      "text/plain": [
       "3-element Array{Any,1}:\n",
       " Flux.Tracker.TrackedReal{Float64}[0.576815 (tracked), 0.177552 (tracked), 0.717878 (tracked), 0.556235 (tracked), 0.318195 (tracked)]\n",
       " Flux.Tracker.TrackedReal{Float64}[0.924826 (tracked), 0.384222 (tracked)]                                                            \n",
       " Flux.Tracker.TrackedReal{Float64}[0.631953 (tracked), 0.368047 (tracked)]                                                            "
      ]
     },
     "execution_count": 63,
     "metadata": {},
     "output_type": "execute_result"
    }
   ],
   "source": [
    "using Flux: activations\n",
    "activations(c, rand(10))"
   ]
  },
  {
   "cell_type": "code",
   "execution_count": 64,
   "metadata": {},
   "outputs": [
    {
     "data": {
      "text/plain": [
       "2.868664819289895 (tracked)"
      ]
     },
     "execution_count": 64,
     "metadata": {},
     "output_type": "execute_result"
    }
   ],
   "source": [
    "sum(norm, ans) # ansは直前に実行した関数の出力が入っている"
   ]
  },
  {
   "cell_type": "code",
   "execution_count": null,
   "metadata": {},
   "outputs": [],
   "source": []
  }
 ],
 "metadata": {
  "kernelspec": {
   "display_name": "Julia 1.0.2",
   "language": "julia",
   "name": "julia-1.0"
  },
  "language_info": {
   "file_extension": ".jl",
   "mimetype": "application/julia",
   "name": "julia",
   "version": "1.0.2"
  }
 },
 "nbformat": 4,
 "nbformat_minor": 2
}
