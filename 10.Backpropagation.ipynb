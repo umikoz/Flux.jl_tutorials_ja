{
 "cells": [
  {
   "cell_type": "markdown",
   "metadata": {},
   "source": [
    "# Flux.Tracker\n",
    "\n",
    "バックプロパゲーション、またはリバースモード自動微分は、`Flux.Tracker`モジュールで処理される。"
   ]
  },
  {
   "cell_type": "code",
   "execution_count": 1,
   "metadata": {},
   "outputs": [],
   "source": [
    "using Flux.Tracker"
   ]
  },
  {
   "cell_type": "markdown",
   "metadata": {},
   "source": [
    "ここではこのモジュールのより高度な使い方とその内部について解説する。"
   ]
  },
  {
   "cell_type": "markdown",
   "metadata": {},
   "source": [
    "## Taking Gradients\n",
    "---\n",
    "\n",
    "[basics session](https://fluxml.ai/Flux.jl/stable/models/basics.html)で`gradient`関数の基本的な使い方をカバーした。"
   ]
  },
  {
   "cell_type": "code",
   "execution_count": 2,
   "metadata": {},
   "outputs": [
    {
     "data": {
      "text/plain": [
       "(3.0 (tracked), 2.0 (tracked))"
      ]
     },
     "execution_count": 2,
     "metadata": {},
     "output_type": "execute_result"
    }
   ],
   "source": [
    "using Flux.Tracker\n",
    "\n",
    "Tracker.gradient((a,b) -> a*b, 2, 3)"
   ]
  },
  {
   "cell_type": "markdown",
   "metadata": {},
   "source": [
    "`gradient`は実際には、backpropagatorに基づくインターフェイス周りの薄いラッパーの`forward`のことだ。"
   ]
  },
  {
   "cell_type": "code",
   "execution_count": 7,
   "metadata": {},
   "outputs": [
    {
     "name": "stdout",
     "output_type": "stream",
     "text": [
      "(y, back) = forward(((a, b)->begin\n",
      "                #= In[7]:3 =#\n",
      "                a * b\n",
      "            end), 2, 3) = (6.0 (tracked), getfield(Flux.Tracker, Symbol(\"##9#11\")){getfield(Flux.Tracker, Symbol(\"##6#7\")){Params,Flux.Tracker.TrackedReal{Float64}}}(Core.Box((2.0 (tracked), 3.0 (tracked))), getfield(Flux.Tracker, Symbol(\"##6#7\")){Params,Flux.Tracker.TrackedReal{Float64}}(Params([3.0 (tracked), 2.0 (tracked)]), 6.0 (tracked))))\n",
      "back(1) = (3.0 (tracked), 2.0 (tracked))\n"
     ]
    },
    {
     "data": {
      "text/plain": [
       "(3.0 (tracked), 2.0 (tracked))"
      ]
     },
     "execution_count": 7,
     "metadata": {},
     "output_type": "execute_result"
    }
   ],
   "source": [
    "using Flux.Tracker: forward\n",
    "\n",
    "@show y, back = forward((a,b)->a*b, 2, 3)\n",
    "\n",
    "@show back(1)"
   ]
  },
  {
   "cell_type": "markdown",
   "metadata": {},
   "source": [
    "`forward`関数は２つの結果を返す。まず`y`は（おそらくトラッキングが適用された場合）、関数のオリジナルの値だ。  \n",
    "次に`back`は、感度（sensitivity）が与えられて、`forward`に入力の感度（sensitivity）を返す新しい関数だ。（これを`backpropagor`と呼ぶ)  \n",
    "このインターフェイスの用途の一つは、カスタムの感度を提供することだ、出力がスカラーではないときに。"
   ]
  },
  {
   "cell_type": "code",
   "execution_count": 11,
   "metadata": {},
   "outputs": [
    {
     "data": {
      "text/plain": [
       "(Flux.Tracker.TrackedReal{Float64}[4.0 (tracked), 10.0 (tracked), 18.0 (tracked)], getfield(Flux.Tracker, Symbol(\"##9#11\")){getfield(Flux.Tracker, Symbol(\"##6#7\")){Params,TrackedArray{…,Array{Float64,1}}}}(Core.Box((Flux.Tracker.TrackedReal{Float64}[1.0 (tracked), 2.0 (tracked), 3.0 (tracked)], Flux.Tracker.TrackedReal{Float64}[4.0 (tracked), 5.0 (tracked), 6.0 (tracked)])), getfield(Flux.Tracker, Symbol(\"##6#7\")){Params,TrackedArray{…,Array{Float64,1}}}(Params([Flux.Tracker.TrackedReal{Float64}[4.0 (tracked), 5.0 (tracked), 6.0 (tracked)], Flux.Tracker.TrackedReal{Float64}[1.0 (tracked), 2.0 (tracked), 3.0 (tracked)]]), Flux.Tracker.TrackedReal{Float64}[4.0 (tracked), 10.0 (tracked), 18.0 (tracked)])))"
      ]
     },
     "execution_count": 11,
     "metadata": {},
     "output_type": "execute_result"
    }
   ],
   "source": [
    "y, back = forward((a,b) -> a.*b, [1,2,3],[4,5,6])"
   ]
  },
  {
   "cell_type": "code",
   "execution_count": 16,
   "metadata": {},
   "outputs": [
    {
     "data": {
      "text/plain": [
       "(Flux.Tracker.TrackedReal{Float64}[4.0 (tracked), 5.0 (tracked), 6.0 (tracked)], Flux.Tracker.TrackedReal{Float64}[1.0 (tracked), 2.0 (tracked), 3.0 (tracked)])"
      ]
     },
     "execution_count": 16,
     "metadata": {},
     "output_type": "execute_result"
    }
   ],
   "source": [
    "back([1,1,1])"
   ]
  },
  {
   "cell_type": "markdown",
   "metadata": {},
   "source": [
    "適当な場所に勾配を取ることもできる。  \n",
    "これは一階の勾配しか気にしないなら便利だ。"
   ]
  },
  {
   "cell_type": "code",
   "execution_count": 18,
   "metadata": {},
   "outputs": [
    {
     "name": "stdout",
     "output_type": "stream",
     "text": [
      "c = a * b = 6.0 (tracked)\n",
      "(Tracker.grad(a), Tracker.grad(b)) = (3.0, 2.0)\n"
     ]
    },
    {
     "data": {
      "text/plain": [
       "(3.0, 2.0)"
      ]
     },
     "execution_count": 18,
     "metadata": {},
     "output_type": "execute_result"
    }
   ],
   "source": [
    "a,b = param(2), param(3)\n",
    "\n",
    "@show c=a*b\n",
    "\n",
    "Tracker.back!(c)\n",
    "\n",
    "@show Tracker.grad(a), Tracker.grad(b)"
   ]
  },
  {
   "cell_type": "markdown",
   "metadata": {},
   "source": [
    "## Tracked Arrays\n",
    "---\n",
    "\n",
    "`param`関数は普通のJulia配列を新しいオブジェクトに変換する。  \n",
    "新しいオブジェクトは配列のように振る舞い、導関数を計算するための追加情報を追跡する。  \n",
    "例えば、２つのパラメータを掛けるとする。"
   ]
  },
  {
   "cell_type": "code",
   "execution_count": 19,
   "metadata": {},
   "outputs": [
    {
     "data": {
      "text/plain": [
       "Tracked 2×2 Array{Float64,2}:\n",
       " 1.0  2.0\n",
       " 3.0  4.0"
      ]
     },
     "execution_count": 19,
     "metadata": {},
     "output_type": "execute_result"
    }
   ],
   "source": [
    "W = param([1 2; 3 4])"
   ]
  },
  {
   "cell_type": "code",
   "execution_count": 20,
   "metadata": {},
   "outputs": [
    {
     "data": {
      "text/plain": [
       "Tracked 2-element Array{Float64,1}:\n",
       " 5.0\n",
       " 6.0"
      ]
     },
     "execution_count": 20,
     "metadata": {},
     "output_type": "execute_result"
    }
   ],
   "source": [
    "x = param([5, 6])"
   ]
  },
  {
   "cell_type": "code",
   "execution_count": 21,
   "metadata": {},
   "outputs": [
    {
     "data": {
      "text/plain": [
       "Tracked 2-element Array{Float64,1}:\n",
       " 17.0\n",
       " 39.0"
      ]
     },
     "execution_count": 21,
     "metadata": {},
     "output_type": "execute_result"
    }
   ],
   "source": [
    "y = W * x"
   ]
  },
  {
   "cell_type": "markdown",
   "metadata": {},
   "source": [
    "出力`y`は`TrackedArray`オブジェクトでもある。  \n",
    "`back!`関数を介して`W`と`b`へ感度をバックプロパゲーションできる様になり、Tracked Array `W`や`x`の累積した勾配が分かる。"
   ]
  },
  {
   "cell_type": "code",
   "execution_count": 22,
   "metadata": {},
   "outputs": [],
   "source": [
    "Tracker.back!(y, [1,-1])"
   ]
  },
  {
   "cell_type": "code",
   "execution_count": 23,
   "metadata": {},
   "outputs": [
    {
     "data": {
      "text/plain": [
       "2×2 Array{Float64,2}:\n",
       "  5.0   6.0\n",
       " -5.0  -6.0"
      ]
     },
     "execution_count": 23,
     "metadata": {},
     "output_type": "execute_result"
    }
   ],
   "source": [
    "W.grad"
   ]
  },
  {
   "cell_type": "code",
   "execution_count": 24,
   "metadata": {},
   "outputs": [
    {
     "data": {
      "text/plain": [
       "2-element Array{Float64,1}:\n",
       " -2.0\n",
       " -2.0"
      ]
     },
     "execution_count": 24,
     "metadata": {},
     "output_type": "execute_result"
    }
   ],
   "source": [
    "x.grad"
   ]
  },
  {
   "cell_type": "markdown",
   "metadata": {},
   "source": [
    "デリバティブ情報を削除して、プレーンな値を得た方が良いかもしれない。  これは`Tracker.data(W)`を呼べばできる。"
   ]
  },
  {
   "cell_type": "markdown",
   "metadata": {},
   "source": [
    "## Custom Gradients\n",
    "---\n",
    "\n",
    "関数やカーネルにカスタム勾配を実装するために、上述のプロセスをフックすることができる。  \n",
    "ちょっとした例として、`minus`のカスタム実装を想像してみよう。"
   ]
  },
  {
   "cell_type": "code",
   "execution_count": 26,
   "metadata": {},
   "outputs": [
    {
     "data": {
      "text/plain": [
       "minus (generic function with 1 method)"
      ]
     },
     "execution_count": 26,
     "metadata": {},
     "output_type": "execute_result"
    }
   ],
   "source": [
    "minus(a,b) = a-b"
   ]
  },
  {
   "cell_type": "markdown",
   "metadata": {},
   "source": [
    "まず、minusへの呼び出しを見たときにストップしてそれを記録するためにするために、トラッカーシステムに指示しないといけない。  \n",
    "これはディスパッチを使えばできる。"
   ]
  },
  {
   "cell_type": "code",
   "execution_count": 37,
   "metadata": {},
   "outputs": [
    {
     "data": {
      "text/plain": [
       "minus (generic function with 2 methods)"
      ]
     },
     "execution_count": 37,
     "metadata": {},
     "output_type": "execute_result"
    }
   ],
   "source": [
    "using Flux.Tracker: TrackedArray, track, @grad, data\n",
    "\n",
    "minus(a::TrackedArray, b::TrackedArray) = track(minus, a, b)"
   ]
  },
  {
   "cell_type": "markdown",
   "metadata": {},
   "source": [
    "`track`は新しいTracked objectの作成と、テープ上でのオペレーションの記録を引き受ける。  \n",
    "勾配の定義を与えないといけない。"
   ]
  },
  {
   "cell_type": "code",
   "execution_count": 38,
   "metadata": {},
   "outputs": [],
   "source": [
    "@grad function minus(a,b)\n",
    "    return minus(data(a), data(b)), Δ -> (Δ, -Δ)\n",
    "end"
   ]
  },
  {
   "cell_type": "markdown",
   "metadata": {},
   "source": [
    "これは本質的に、単に上で見た`forward`関数をオーバーロードする方法だ。  \n",
    "`a`と`b`からトラッキングを取り除き、minusのオリジナルの定義を呼び出している。 (そうでない場合、再度呼び出して無限回帰を実行するだろう）\n",
    "\n",
    "backpropagatorでは`data(a)`を呼び出さないことに注意。  \n",
    "ネストした自動微分はbackpropagator自体を通してデリバティブを取るから、実際はこれを追跡したい。  \n",
    "例えば、`*`の勾配はこのようかも。"
   ]
  },
  {
   "cell_type": "code",
   "execution_count": 39,
   "metadata": {},
   "outputs": [],
   "source": [
    "@grad a*b = data(a)*data(b), Δ ->(Δ*b, a*Δ)"
   ]
  },
  {
   "cell_type": "markdown",
   "metadata": {},
   "source": [
    "以下のように`minus`の一階微分を計算できる。"
   ]
  },
  {
   "cell_type": "code",
   "execution_count": 47,
   "metadata": {},
   "outputs": [
    {
     "name": "stdout",
     "output_type": "stream",
     "text": [
      "c = minus(a, b) = Flux.Tracker.TrackedReal{Float64}[-2.0 (tracked), 0.0 (tracked), 2.0 (tracked)]\n",
      "Tracker.grad(a) = [1.0, 1.0, 1.0]\n",
      "Tracker.grad(b) = [-1.0, -1.0, -1.0]\n"
     ]
    },
    {
     "data": {
      "text/plain": [
       "3-element Array{Float64,1}:\n",
       " -1.0\n",
       " -1.0\n",
       " -1.0"
      ]
     },
     "execution_count": 47,
     "metadata": {},
     "output_type": "execute_result"
    }
   ],
   "source": [
    "a = param([1,2,3])\n",
    "b = param([3,2,1])\n",
    "\n",
    "@show c = minus(a,b)\n",
    "\n",
    "Tracker.back!(c, 1)\n",
    "@show Tracker.grad(a)\n",
    "@show Tracker.grad(b)"
   ]
  },
  {
   "cell_type": "markdown",
   "metadata": {},
   "source": [
    "カスタム勾配を持つ複数引数の関数の場合、単に`minus(::TrackedArray, ::TrackedArray)`だけでなく、`minus(::Array, ::TrackedArray)`などもまた、キャッチする必要がある。  \n",
    "そのためには、必要に応じてそれらの追加シグネチャを定義するだけだ。"
   ]
  },
  {
   "cell_type": "code",
   "execution_count": 48,
   "metadata": {},
   "outputs": [
    {
     "data": {
      "text/plain": [
       "minus (generic function with 4 methods)"
      ]
     },
     "execution_count": 48,
     "metadata": {},
     "output_type": "execute_result"
    }
   ],
   "source": [
    "minus(a::AbstractArray, b::TrackedArray) = Tracker.track(minus, a, b)\n",
    "minus(a::TrackedArray, b::AbstractArray) = Tracker.track(minus, a, b)"
   ]
  },
  {
   "cell_type": "markdown",
   "metadata": {},
   "source": [
    "## Tracked Internals\n",
    "---\n",
    "\n",
    "すべての`Tracked*`オブジェクト（`TrackedArray`, `TrackedReal`)は`Tracked`型を囲む軽いラッパーで、`.tracker`フィールドを介してアクセスができる。  "
   ]
  },
  {
   "cell_type": "code",
   "execution_count": 49,
   "metadata": {},
   "outputs": [
    {
     "data": {
      "text/plain": [
       "Flux.Tracker.Tracked{Array{Float64,1}}(0x00000000, Flux.Tracker.Call{Nothing,Tuple{}}(nothing, ()), true, [-2.0, -2.0])"
      ]
     },
     "execution_count": 49,
     "metadata": {},
     "output_type": "execute_result"
    }
   ],
   "source": [
    "x.tracker"
   ]
  },
  {
   "cell_type": "markdown",
   "metadata": {},
   "source": [
    "`Tracker`は与えられたオブジェクトの勾配を保存する。 これは前に見たね。 // ←この訳でいいのだろうか？"
   ]
  },
  {
   "cell_type": "code",
   "execution_count": 50,
   "metadata": {},
   "outputs": [
    {
     "data": {
      "text/plain": [
       "2-element Array{Float64,1}:\n",
       " -2.0\n",
       " -2.0"
      ]
     },
     "execution_count": 50,
     "metadata": {},
     "output_type": "execute_result"
    }
   ],
   "source": [
    "x.tracker.grad"
   ]
  },
  {
   "cell_type": "markdown",
   "metadata": {},
   "source": [
    "trackerは`Call`オブジェクトも含み、これはforwardパス中のある時点で行われた関数呼び出しを単に表す。  \n",
    "例えば、`+`呼び出しはこのようだ。"
   ]
  },
  {
   "cell_type": "code",
   "execution_count": 83,
   "metadata": {},
   "outputs": [
    {
     "data": {
      "text/plain": [
       "Flux.Tracker.Call{typeof(+),Tuple{Int64,Int64}}(+, (1, 2))"
      ]
     },
     "execution_count": 83,
     "metadata": {},
     "output_type": "execute_result"
    }
   ],
   "source": [
    "Tracker.Call(+, (1,2) ) # 元コードと違う"
   ]
  },
  {
   "cell_type": "markdown",
   "metadata": {},
   "source": [
    "上で作った`y`の場合、それを生み出した呼び出しを保存していることが分かる,つまり`W*x`のこと。"
   ]
  },
  {
   "cell_type": "code",
   "execution_count": 84,
   "metadata": {},
   "outputs": [
    {
     "data": {
      "text/plain": [
       "Flux.Tracker.Call{getfield(Flux.Tracker, Symbol(\"##445#446\")){TrackedArray{…,Array{Float64,2}},TrackedArray{…,Array{Float64,1}}},Tuple{Flux.Tracker.Tracked{Array{Float64,2}},Flux.Tracker.Tracked{Array{Float64,1}}}}(getfield(Flux.Tracker, Symbol(\"##445#446\")){TrackedArray{…,Array{Float64,2}},TrackedArray{…,Array{Float64,1}}}(Flux.Tracker.TrackedReal{Float64}[1.0 (tracked) 2.0 (tracked); 3.0 (tracked) 4.0 (tracked)], Flux.Tracker.TrackedReal{Float64}[5.0 (tracked), 6.0 (tracked)]), (Flux.Tracker.Tracked{Array{Float64,2}}(0x00000000, Flux.Tracker.Call{Nothing,Tuple{}}(nothing, ()), true, [5.0 6.0; -5.0 -6.0]), Flux.Tracker.Tracked{Array{Float64,1}}(0x00000000, Flux.Tracker.Call{Nothing,Tuple{}}(nothing, ()), true, [-2.0, -2.0])))"
      ]
     },
     "execution_count": 84,
     "metadata": {},
     "output_type": "execute_result"
    }
   ],
   "source": [
    "y.tracker.f"
   ]
  },
  {
   "cell_type": "markdown",
   "metadata": {},
   "source": [
    "呼び出しの引数がTracked Arrayで、自身の呼び出しを保存していることもあるため、これは`Tracker`がforwardパス中に起こったことすべてを記録するデータ構造を構成することを意味する。\n",
    "\n",
    "`back!(y, [1, -1])`を呼ぶとき、感度`[1, -1]`は単に`y`の呼び出し(`*`)に送られる。"
   ]
  },
  {
   "cell_type": "code",
   "execution_count": 92,
   "metadata": {},
   "outputs": [
    {
     "ename": "MethodError",
     "evalue": "MethodError: no method matching back(::typeof(*), ::Array{Int64,1}, ::TrackedArray{…,Array{Float64,2}}, ::TrackedArray{…,Array{Float64,1}})\nClosest candidates are:\n  back(!Matched::Flux.Tracker.Tracked, ::Any) at /Users/umikoz/.julia/packages/Flux/jsf3Y/src/tracker/back.jl:35\n  back(!Matched::Nothing, ::Any) at /Users/umikoz/.julia/packages/Flux/jsf3Y/src/tracker/back.jl:50\n  back(!Matched::Flux.Tracker.Grads, !Matched::Flux.Tracker.Tracked, ::Any) at /Users/umikoz/.julia/packages/Flux/jsf3Y/src/tracker/back.jl:112\n  ...",
     "output_type": "error",
     "traceback": [
      "MethodError: no method matching back(::typeof(*), ::Array{Int64,1}, ::TrackedArray{…,Array{Float64,2}}, ::TrackedArray{…,Array{Float64,1}})\nClosest candidates are:\n  back(!Matched::Flux.Tracker.Tracked, ::Any) at /Users/umikoz/.julia/packages/Flux/jsf3Y/src/tracker/back.jl:35\n  back(!Matched::Nothing, ::Any) at /Users/umikoz/.julia/packages/Flux/jsf3Y/src/tracker/back.jl:50\n  back(!Matched::Flux.Tracker.Grads, !Matched::Flux.Tracker.Tracked, ::Any) at /Users/umikoz/.julia/packages/Flux/jsf3Y/src/tracker/back.jl:112\n  ...",
      "",
      "Stacktrace:",
      " [1] top-level scope at In[92]:1"
     ]
    }
   ],
   "source": [
    "Tracker.back(*, [1, -1], W, x) # ＼(^o^)／"
   ]
  },
  {
   "cell_type": "markdown",
   "metadata": {},
   "source": [
    "これは引数(`W`や`b`)の感度を計算し、呼び出しを通して逆伝搬する。  \n",
    "これは再帰的だから、プログラムグラフ全体を調べてオリジナルのモデルパラメータへ勾配を伝搬する。"
   ]
  },
  {
   "cell_type": "code",
   "execution_count": null,
   "metadata": {},
   "outputs": [],
   "source": []
  }
 ],
 "metadata": {
  "kernelspec": {
   "display_name": "Julia 1.0.2",
   "language": "julia",
   "name": "julia-1.0"
  },
  "language_info": {
   "file_extension": ".jl",
   "mimetype": "application/julia",
   "name": "julia",
   "version": "1.0.2"
  }
 },
 "nbformat": 4,
 "nbformat_minor": 2
}
