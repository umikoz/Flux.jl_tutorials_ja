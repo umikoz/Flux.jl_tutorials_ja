{
 "cells": [
  {
   "cell_type": "markdown",
   "metadata": {},
   "source": [
    "# GPU Support\n",
    "\n",
    "他のハードウェアbackendでの配列サポートは（GPUのような）、CuArrayのような外部パッケージから提供される。  \n",
    "Fluxは配列タイプに縛られないので、モデルの重みとデータをGPUに送るだけでFluxはそれをハンドルする。  \n",
    "\n",
    "例えば、`CuArray`を使えばNVIDIA GPUでbasic exampleを実行できる。\n",
    "\n",
    "（Julia 0.6をソースからビルドする必要があり、CuArrayを使うためにCUDAが利用可能である必要がある。  \n",
    "詳しくは[CUDAnative.jl](https://github.com/JuliaGPU/CUDAnative.jl)の説明を見よ。）"
   ]
  },
  {
   "cell_type": "markdown",
   "metadata": {},
   "source": [
    "[WIP]"
   ]
  },
  {
   "cell_type": "code",
   "execution_count": null,
   "metadata": {},
   "outputs": [],
   "source": []
  }
 ],
 "metadata": {
  "kernelspec": {
   "display_name": "Julia 1.0.2",
   "language": "julia",
   "name": "julia-1.0"
  },
  "language_info": {
   "file_extension": ".jl",
   "mimetype": "application/julia",
   "name": "julia",
   "version": "1.0.2"
  }
 },
 "nbformat": 4,
 "nbformat_minor": 2
}
