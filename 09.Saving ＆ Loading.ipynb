{
 "cells": [
  {
   "cell_type": "markdown",
   "metadata": {},
   "source": [
    "# Saving and Loading Models\n",
    "\n",
    "後のセッションでロードして実行できるように、モデルを保存することを望むかもしれない。  \n",
    "最も簡単なそれを行う方法はBSON.jlによるものだ。\n",
    "\n",
    "モデルを保存しよう。"
   ]
  },
  {
   "cell_type": "code",
   "execution_count": 1,
   "metadata": {},
   "outputs": [],
   "source": [
    "using Flux"
   ]
  },
  {
   "cell_type": "code",
   "execution_count": 2,
   "metadata": {},
   "outputs": [
    {
     "data": {
      "text/plain": [
       "Chain(Dense(10, 5, NNlib.relu), Dense(5, 2), NNlib.softmax)"
      ]
     },
     "execution_count": 2,
     "metadata": {},
     "output_type": "execute_result"
    }
   ],
   "source": [
    "model = Chain(\n",
    "    Dense(10,5,relu),\n",
    "    Dense(5,2), softmax)"
   ]
  },
  {
   "cell_type": "code",
   "execution_count": 3,
   "metadata": {},
   "outputs": [],
   "source": [
    "using BSON: @save"
   ]
  },
  {
   "cell_type": "code",
   "execution_count": 4,
   "metadata": {},
   "outputs": [],
   "source": [
    "@save \"mymodel.bson\" model"
   ]
  },
  {
   "cell_type": "markdown",
   "metadata": {},
   "source": [
    "再びロードしよう。"
   ]
  },
  {
   "cell_type": "code",
   "execution_count": 1,
   "metadata": {},
   "outputs": [],
   "source": [
    "using Flux"
   ]
  },
  {
   "cell_type": "code",
   "execution_count": 2,
   "metadata": {},
   "outputs": [],
   "source": [
    "using BSON:@load"
   ]
  },
  {
   "cell_type": "code",
   "execution_count": 6,
   "metadata": {},
   "outputs": [],
   "source": [
    "@load \"mymodel.bson\" model"
   ]
  },
  {
   "cell_type": "code",
   "execution_count": 7,
   "metadata": {},
   "outputs": [
    {
     "data": {
      "text/plain": [
       "Chain(Dense(10, 5, NNlib.relu), Dense(5, 2), NNlib.softmax)"
      ]
     },
     "execution_count": 7,
     "metadata": {},
     "output_type": "execute_result"
    }
   ],
   "source": [
    "model"
   ]
  },
  {
   "cell_type": "markdown",
   "metadata": {},
   "source": [
    "モデルは普通のJuliaの構造体なので、この目的のためには、どんなJuliaのストレージフォーマットを使っても良い。  \n",
    "BSON.jlは特に良くサポートされていて、ほとんどの場合、前方互換性がある。（つまり、未来のバージョンのFluxで今保存したモデルがロードされる予定だということ）"
   ]
  },
  {
   "cell_type": "markdown",
   "metadata": {},
   "source": [
    "> 保存したモデルの重みがGPUにあるなら、使えるGPUサポートがないとモデルは後でロードされない。  \n",
    "> それを保存する前に`cpu(model)`でCPUにモデルを移動するのが最良。"
   ]
  },
  {
   "cell_type": "markdown",
   "metadata": {},
   "source": [
    "## Saving Model Weights\n",
    "---\n",
    "\n",
    "場合によってはモデルパラメータ自体を保存して、君のコードの中でモデルの構造を再構築すると便利かもしれない。  \n",
    "モデルパラメータを得るために`params(model)`が使える。  \n",
    "追跡（tracking)を削除するために`data.(params)`を使うこともできる。"
   ]
  },
  {
   "cell_type": "code",
   "execution_count": 8,
   "metadata": {},
   "outputs": [],
   "source": [
    "using Flux"
   ]
  },
  {
   "cell_type": "code",
   "execution_count": 9,
   "metadata": {},
   "outputs": [
    {
     "data": {
      "text/plain": [
       "Chain(Dense(10, 5, NNlib.relu), Dense(5, 2), NNlib.softmax)"
      ]
     },
     "execution_count": 9,
     "metadata": {},
     "output_type": "execute_result"
    }
   ],
   "source": [
    "model = Chain(\n",
    "    Dense(10,5,relu),\n",
    "    Dense(5,2), softmax)"
   ]
  },
  {
   "cell_type": "code",
   "execution_count": 16,
   "metadata": {},
   "outputs": [
    {
     "data": {
      "text/plain": [
       "4-element Array{Array{Float64,N} where N,1}:\n",
       " [-0.0728872 -0.451718 … 0.0186089 -0.507603; -0.605246 0.051562 … 0.471907 0.297695; … ; 0.167104 -0.0734559 … -0.0877545 -0.197722; -0.144643 0.291875 … -0.561696 -0.044596]\n",
       " [0.0, 0.0, 0.0, 0.0, 0.0]                                                                                                                                                     \n",
       " [-0.73627 0.45739 … -0.549217 -0.041836; 0.314933 0.617622 … 0.0132501 -0.627125]                                                                                             \n",
       " [0.0, 0.0]                                                                                                                                                                    "
      ]
     },
     "execution_count": 16,
     "metadata": {},
     "output_type": "execute_result"
    }
   ],
   "source": [
    "weights = Tracker.data.(params(model))"
   ]
  },
  {
   "cell_type": "code",
   "execution_count": 17,
   "metadata": {},
   "outputs": [],
   "source": [
    "using BSON: @save"
   ]
  },
  {
   "cell_type": "code",
   "execution_count": 18,
   "metadata": {},
   "outputs": [],
   "source": [
    "@save \"mymodel.bson\" weights"
   ]
  },
  {
   "cell_type": "markdown",
   "metadata": {},
   "source": [
    "`Flux.loadparams!`でパラメータをロードしてモデルに戻すことが簡単にできる。"
   ]
  },
  {
   "cell_type": "code",
   "execution_count": 19,
   "metadata": {},
   "outputs": [],
   "source": [
    "using Flux"
   ]
  },
  {
   "cell_type": "code",
   "execution_count": 20,
   "metadata": {},
   "outputs": [
    {
     "data": {
      "text/plain": [
       "Chain(Dense(10, 5, NNlib.relu), Dense(5, 2), NNlib.softmax)"
      ]
     },
     "execution_count": 20,
     "metadata": {},
     "output_type": "execute_result"
    }
   ],
   "source": [
    "model = Chain(\n",
    "    Dense(10,5,relu),\n",
    "    Dense(5,2), softmax)"
   ]
  },
  {
   "cell_type": "code",
   "execution_count": 21,
   "metadata": {},
   "outputs": [],
   "source": [
    "using BSON: @load"
   ]
  },
  {
   "cell_type": "code",
   "execution_count": 22,
   "metadata": {},
   "outputs": [],
   "source": [
    "@load \"mymodel.bson\" weights"
   ]
  },
  {
   "cell_type": "code",
   "execution_count": 23,
   "metadata": {},
   "outputs": [],
   "source": [
    "Flux.loadparams!(model, weights)"
   ]
  },
  {
   "cell_type": "markdown",
   "metadata": {},
   "source": [
    "作った新しい`model`は保存したパラメータと同一になる。"
   ]
  },
  {
   "cell_type": "markdown",
   "metadata": {},
   "source": [
    "## Checkpointing\n",
    "---\n",
    "\n",
    "長いトレーニングの実行では、トレーニングが中断したときに再開できるように、定期的にモデルを保存するのを薦める。  \n",
    "これは`train!`向けに適用されているcallbackの中でモデルを保存する事でできる。"
   ]
  },
  {
   "cell_type": "code",
   "execution_count": 25,
   "metadata": {},
   "outputs": [
    {
     "data": {
      "text/plain": [
       "(::getfield(Flux, Symbol(\"#throttled#18\")){getfield(Flux, Symbol(\"##throttled#10#14\")){Bool,Bool,getfield(Main, Symbol(\"##3#4\")),Int64}}) (generic function with 1 method)"
      ]
     },
     "execution_count": 25,
     "metadata": {},
     "output_type": "execute_result"
    }
   ],
   "source": [
    "using Flux: throttle\n",
    "using BSON: @save\n",
    "\n",
    "m = Chain(\n",
    "    Dense(10,5,relu),\n",
    "    Dense(5,2), softmax)\n",
    "\n",
    "evalcb = throttle(30) do\n",
    "    # lossを表示\n",
    "    @show \"model-checkpoint.bson\" model\n",
    "end"
   ]
  },
  {
   "cell_type": "markdown",
   "metadata": {},
   "source": [
    "これ（上のコード）は\"`model-checkpoint.bson`\"ファイルを30秒ごとに更新する。  \n",
    "\n",
    "トレーニング中に一連のモデルを保存するのは、更に高度なものになる。"
   ]
  },
  {
   "cell_type": "code",
   "execution_count": 32,
   "metadata": {},
   "outputs": [],
   "source": [
    "using Dates:now \n",
    "\n",
    "@save \"model-$(now()).bson\" model"
   ]
  },
  {
   "cell_type": "markdown",
   "metadata": {},
   "source": [
    "上記は\"`model-2018-03-06T02:57:10.41.bson`\"ように一連のモデルを作り出す。  \n",
    "今のテストセットのlossを保存もできる。だからオーバーフィットを始めたら、（例えば）モデルの古いコピーに戻すことも簡単だ。"
   ]
  },
  {
   "cell_type": "code",
   "execution_count": 100,
   "metadata": {},
   "outputs": [
    {
     "name": "stdout",
     "output_type": "stream",
     "text": [
      "testloss() = 0.6931471805599453 (tracked)\n"
     ]
    },
    {
     "ename": "UndefRefError",
     "evalue": "UndefRefError: access to undefined reference",
     "output_type": "error",
     "traceback": [
      "UndefRefError: access to undefined reference",
      "",
      "Stacktrace:",
      " [1] structdata(::TrackedArray{…,Array{Float64,2}}) at /Users/umikoz/.julia/packages/BSON/kxdIr/src/extensions.jl:80",
      " [2] lower at /Users/umikoz/.julia/packages/BSON/kxdIr/src/extensions.jl:84 [inlined]",
      " [3] _lower_recursive(::TrackedArray{…,Array{Float64,2}}, ::IdDict{Any,Any}, ::Array{Any,1}) at /Users/umikoz/.julia/packages/BSON/kxdIr/src/write.jl:62",
      " [4] (::getfield(BSON, Symbol(\"##7#11\")){IdDict{Any,Any},Array{Any,1}})(::TrackedArray{…,Array{Float64,2}}) at /Users/umikoz/.julia/packages/BSON/kxdIr/src/write.jl:62",
      " [5] applychildren!(::getfield(BSON, Symbol(\"##7#11\")){IdDict{Any,Any},Array{Any,1}}, ::Array{Any,1}) at /Users/umikoz/.julia/packages/BSON/kxdIr/src/BSON.jl:28",
      " [6] _lower_recursive(::Array{Any,1}, ::IdDict{Any,Any}, ::Array{Any,1}) at /Users/umikoz/.julia/packages/BSON/kxdIr/src/write.jl:62",
      " [7] (::getfield(BSON, Symbol(\"##7#11\")){IdDict{Any,Any},Array{Any,1}})(::Array{Any,1}) at /Users/umikoz/.julia/packages/BSON/kxdIr/src/write.jl:62",
      " [8] applychildren!(::getfield(BSON, Symbol(\"##7#11\")){IdDict{Any,Any},Array{Any,1}}, ::Dict{Symbol,Any}) at /Users/umikoz/.julia/packages/BSON/kxdIr/src/BSON.jl:21",
      " ... (the last 6 lines are repeated 9 more times)",
      " [63] _lower_recursive(::Flux.Tracker.TrackedReal{Float64}, ::IdDict{Any,Any}, ::Array{Any,1}) at /Users/umikoz/.julia/packages/BSON/kxdIr/src/write.jl:62",
      " [64] (::getfield(BSON, Symbol(\"##7#11\")){IdDict{Any,Any},Array{Any,1}})(::Flux.Tracker.TrackedReal{Float64}) at /Users/umikoz/.julia/packages/BSON/kxdIr/src/write.jl:62",
      " [65] applychildren!(::getfield(BSON, Symbol(\"##7#11\")){IdDict{Any,Any},Array{Any,1}}, ::Dict{Symbol,Any}) at /Users/umikoz/.julia/packages/BSON/kxdIr/src/BSON.jl:21",
      " [66] _lower_recursive(::Dict{Symbol,Any}, ::IdDict{Any,Any}, ::Array{Any,1}) at /Users/umikoz/.julia/packages/BSON/kxdIr/src/write.jl:62",
      " [67] lower_recursive(::Dict{Symbol,Any}) at /Users/umikoz/.julia/packages/BSON/kxdIr/src/write.jl:73",
      " [68] bson(::IOStream, ::Dict{Symbol,Any}) at /Users/umikoz/.julia/packages/BSON/kxdIr/src/write.jl:81",
      " [69] #14 at /Users/umikoz/.julia/packages/BSON/kxdIr/src/write.jl:83 [inlined]",
      " [70] #open#294(::Base.Iterators.Pairs{Union{},Union{},Tuple{},NamedTuple{(),Tuple{}}}, ::Function, ::getfield(BSON, Symbol(\"##14#15\")){Dict{Symbol,Any}}, ::String, ::Vararg{String,N} where N) at ./iostream.jl:369",
      " [71] open at ./iostream.jl:367 [inlined]",
      " [72] bson(::String, ::Dict{Symbol,Any}) at /Users/umikoz/.julia/packages/BSON/kxdIr/src/write.jl:83"
     ]
    }
   ],
   "source": [
    "# testloss stub\n",
    "test_data, test_label = rand(10), [0 1]\n",
    "testloss() = begin\n",
    "    Flux.crossentropy(m(test_data), test_label)\n",
    "end\n",
    "@show testloss()\n",
    "\n",
    "@save \"model-$(now()).bson\" model loss=testloss()"
   ]
  },
  {
   "cell_type": "markdown",
   "metadata": {},
   "source": [
    "モデルと共にオプティマイザの状態を保存して、止めた所から正確にトレーニングを再開することもできる。"
   ]
  },
  {
   "cell_type": "markdown",
   "metadata": {},
   "source": [
    "[WIP]"
   ]
  },
  {
   "cell_type": "code",
   "execution_count": null,
   "metadata": {},
   "outputs": [],
   "source": []
  }
 ],
 "metadata": {
  "kernelspec": {
   "display_name": "Julia 1.0.2",
   "language": "julia",
   "name": "julia-1.0"
  },
  "language_info": {
   "file_extension": ".jl",
   "mimetype": "application/julia",
   "name": "julia",
   "version": "1.0.2"
  }
 },
 "nbformat": 4,
 "nbformat_minor": 2
}
